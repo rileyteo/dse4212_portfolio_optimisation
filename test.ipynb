{
 "cells": [
  {
   "cell_type": "markdown",
   "id": "007855cd",
   "metadata": {},
   "source": [
    "Predicted Values"
   ]
  },
  {
   "cell_type": "code",
   "execution_count": null,
   "id": "c2df1d24",
   "metadata": {},
   "outputs": [],
   "source": [
    "# Requirements\n",
    "%pip install pandas numpy matplotlib fredapi python-dotenv scipy scikit-learn joblib tdqm xgboost"
   ]
  },
  {
   "cell_type": "code",
   "execution_count": null,
   "id": "f0bfa319",
   "metadata": {},
   "outputs": [],
   "source": [
    "from src import *"
   ]
  },
  {
   "cell_type": "markdown",
   "id": "174ad13e",
   "metadata": {},
   "source": [
    "2017-02-08 start test to 2018-02-07\n",
    "\n",
    "2014-03-03 start CV to 2016-10-03"
   ]
  },
  {
   "cell_type": "code",
   "execution_count": null,
   "id": "409ef25b",
   "metadata": {},
   "outputs": [],
   "source": [
    "with open('src/processed_data.pkl', 'rb') as f:\n",
    "    op, high, low, close, volume, returns, risk_free_rate = pickle.load(f)\n",
    "\n",
    "train_returns = returns.iloc[:-252]\n",
    "test_returns = returns.iloc[-252:]\n",
    "test_risk_free_rate = risk_free_rate.iloc[-252:]\n",
    "cv_returns = train_returns.iloc[-252:]\n",
    "cv_returns"
   ]
  },
  {
   "cell_type": "markdown",
   "id": "761be13f",
   "metadata": {},
   "source": [
    "Predicting the returns"
   ]
  },
  {
   "cell_type": "code",
   "execution_count": null,
   "id": "1f790f7e",
   "metadata": {},
   "outputs": [],
   "source": [
    "predictor = MLReturnPredictor(model_type='ridge', alpha=.1)\n",
    "X_train, y_train = predictor.create_training_dataset(os.listdir('src/data')[:os.listdir('src/data').index('2017-02-08.pkl')-65],\n",
    "                                                      train_returns.iloc[:-65]) #65 for purge\n",
    "predictor.train(X_train, y_train)\n",
    "predicted = predictor.predict_all_test_returns(os.listdir('src/data')[os.listdir('src/data').index('2017-02-08.pkl'):])"
   ]
  },
  {
   "cell_type": "markdown",
   "id": "c9f7b3e9",
   "metadata": {},
   "source": [
    "This is during the test period then to do walk forward can use this code"
   ]
  },
  {
   "cell_type": "code",
   "execution_count": 92,
   "id": "78b8dcaf",
   "metadata": {},
   "outputs": [
    {
     "name": "stdout",
     "output_type": "stream",
     "text": [
      "['2013-05-28.pkl', '2013-06-03.pkl', '2013-06-10.pkl', '2013-06-17.pkl', '2013-06-24.pkl', '2013-07-01.pkl', '2013-07-08.pkl', '2013-07-15.pkl', '2013-07-22.pkl', '2013-07-29.pkl', '2013-08-05.pkl', '2013-08-12.pkl', '2013-08-19.pkl', '2013-08-26.pkl', '2013-09-03.pkl', '2013-09-09.pkl', '2013-09-16.pkl', '2013-09-23.pkl', '2013-09-30.pkl', '2013-10-07.pkl', '2013-10-14.pkl', '2013-10-21.pkl', '2013-10-28.pkl', '2013-11-04.pkl', '2013-11-11.pkl', '2013-11-18.pkl', '2013-11-25.pkl', '2013-12-02.pkl', '2013-12-09.pkl', '2013-12-16.pkl', '2013-12-23.pkl', '2013-12-30.pkl', '2014-01-02.pkl', '2014-01-06.pkl', '2014-01-13.pkl', '2014-01-21.pkl', '2014-01-27.pkl', '2014-02-03.pkl', '2014-02-10.pkl', '2014-02-18.pkl', '2014-02-24.pkl', '2014-03-03.pkl', '2014-03-10.pkl', '2014-03-17.pkl', '2014-03-24.pkl', '2014-03-31.pkl', '2014-04-07.pkl', '2014-04-14.pkl', '2014-04-21.pkl', '2014-04-28.pkl', '2014-05-05.pkl', '2014-05-12.pkl', '2014-05-19.pkl', '2014-05-27.pkl', '2014-06-02.pkl', '2014-06-09.pkl', '2014-06-16.pkl', '2014-06-23.pkl', '2014-06-30.pkl', '2014-07-07.pkl', '2014-07-14.pkl', '2014-07-21.pkl', '2014-07-28.pkl', '2014-08-04.pkl', '2014-08-11.pkl', '2014-08-18.pkl', '2014-08-25.pkl', '2014-09-02.pkl', '2014-09-08.pkl', '2014-09-15.pkl', '2014-09-22.pkl', '2014-09-29.pkl', '2014-10-06.pkl', '2014-10-13.pkl', '2014-10-20.pkl', '2014-10-27.pkl', '2014-11-03.pkl', '2014-11-10.pkl', '2014-11-17.pkl', '2014-11-24.pkl', '2014-12-01.pkl', '2014-12-08.pkl', '2014-12-15.pkl', '2014-12-22.pkl', '2015-01-02.pkl', '2015-01-05.pkl', '2015-01-12.pkl', '2015-01-20.pkl', '2015-01-26.pkl', '2015-02-02.pkl', '2015-02-09.pkl', '2015-02-17.pkl', '2015-02-23.pkl', '2015-03-02.pkl', '2015-03-09.pkl', '2015-03-16.pkl', '2015-03-23.pkl', '2015-03-30.pkl', '2015-04-06.pkl', '2015-04-13.pkl', '2015-04-20.pkl', '2015-04-27.pkl', '2015-05-04.pkl', '2015-05-11.pkl']\n",
      "2015-10-05.pkl\n",
      "Creating training dataset from 104 files...\n",
      "✓ Dataset created: X=(48880, 54), y=(48880,)\n",
      "Training ridge model...\n",
      "✓ Training R²: 0.0596\n",
      "  Prediction spread: 0.8405%\n",
      "Predicting returns for 1 dates...\n",
      "✓ Predictions complete: (1, 470)\n",
      "['2013-05-28.pkl', '2013-06-03.pkl', '2013-06-10.pkl', '2013-06-17.pkl', '2013-06-24.pkl', '2013-07-01.pkl', '2013-07-08.pkl', '2013-07-15.pkl', '2013-07-22.pkl', '2013-07-29.pkl', '2013-08-05.pkl', '2013-08-12.pkl', '2013-08-19.pkl', '2013-08-26.pkl', '2013-09-03.pkl', '2013-09-09.pkl', '2013-09-16.pkl', '2013-09-23.pkl', '2013-09-30.pkl', '2013-10-07.pkl', '2013-10-14.pkl', '2013-10-21.pkl', '2013-10-28.pkl', '2013-11-04.pkl', '2013-11-11.pkl', '2013-11-18.pkl', '2013-11-25.pkl', '2013-12-02.pkl', '2013-12-09.pkl', '2013-12-16.pkl', '2013-12-23.pkl', '2013-12-30.pkl', '2014-01-02.pkl', '2014-01-06.pkl', '2014-01-13.pkl', '2014-01-21.pkl', '2014-01-27.pkl', '2014-02-03.pkl', '2014-02-10.pkl', '2014-02-18.pkl', '2014-02-24.pkl', '2014-03-03.pkl', '2014-03-10.pkl', '2014-03-17.pkl', '2014-03-24.pkl', '2014-03-31.pkl', '2014-04-07.pkl', '2014-04-14.pkl', '2014-04-21.pkl', '2014-04-28.pkl', '2014-05-05.pkl', '2014-05-12.pkl', '2014-05-19.pkl', '2014-05-27.pkl', '2014-06-02.pkl', '2014-06-09.pkl', '2014-06-16.pkl', '2014-06-23.pkl', '2014-06-30.pkl', '2014-07-07.pkl', '2014-07-14.pkl', '2014-07-21.pkl', '2014-07-28.pkl', '2014-08-04.pkl', '2014-08-11.pkl', '2014-08-18.pkl', '2014-08-25.pkl', '2014-09-02.pkl', '2014-09-08.pkl', '2014-09-15.pkl', '2014-09-22.pkl', '2014-09-29.pkl', '2014-10-06.pkl', '2014-10-13.pkl', '2014-10-20.pkl', '2014-10-27.pkl', '2014-11-03.pkl', '2014-11-10.pkl', '2014-11-17.pkl', '2014-11-24.pkl', '2014-12-01.pkl', '2014-12-08.pkl', '2014-12-15.pkl', '2014-12-22.pkl', '2015-01-02.pkl', '2015-01-05.pkl', '2015-01-12.pkl', '2015-01-20.pkl', '2015-01-26.pkl', '2015-02-02.pkl', '2015-02-09.pkl', '2015-02-17.pkl', '2015-02-23.pkl', '2015-03-02.pkl', '2015-03-09.pkl', '2015-03-16.pkl', '2015-03-23.pkl', '2015-03-30.pkl', '2015-04-06.pkl', '2015-04-13.pkl', '2015-04-20.pkl', '2015-04-27.pkl', '2015-05-04.pkl', '2015-05-11.pkl', '2015-05-18.pkl']\n",
      "2015-10-12.pkl\n",
      "Creating training dataset from 105 files...\n",
      "✓ Dataset created: X=(49350, 54), y=(49350,)\n",
      "Training ridge model...\n",
      "✓ Training R²: 0.0580\n",
      "  Prediction spread: 0.8285%\n",
      "Predicting returns for 1 dates...\n",
      "✓ Predictions complete: (1, 470)\n",
      "['2013-05-28.pkl', '2013-06-03.pkl', '2013-06-10.pkl', '2013-06-17.pkl', '2013-06-24.pkl', '2013-07-01.pkl', '2013-07-08.pkl', '2013-07-15.pkl', '2013-07-22.pkl', '2013-07-29.pkl', '2013-08-05.pkl', '2013-08-12.pkl', '2013-08-19.pkl', '2013-08-26.pkl', '2013-09-03.pkl', '2013-09-09.pkl', '2013-09-16.pkl', '2013-09-23.pkl', '2013-09-30.pkl', '2013-10-07.pkl', '2013-10-14.pkl', '2013-10-21.pkl', '2013-10-28.pkl', '2013-11-04.pkl', '2013-11-11.pkl', '2013-11-18.pkl', '2013-11-25.pkl', '2013-12-02.pkl', '2013-12-09.pkl', '2013-12-16.pkl', '2013-12-23.pkl', '2013-12-30.pkl', '2014-01-02.pkl', '2014-01-06.pkl', '2014-01-13.pkl', '2014-01-21.pkl', '2014-01-27.pkl', '2014-02-03.pkl', '2014-02-10.pkl', '2014-02-18.pkl', '2014-02-24.pkl', '2014-03-03.pkl', '2014-03-10.pkl', '2014-03-17.pkl', '2014-03-24.pkl', '2014-03-31.pkl', '2014-04-07.pkl', '2014-04-14.pkl', '2014-04-21.pkl', '2014-04-28.pkl', '2014-05-05.pkl', '2014-05-12.pkl', '2014-05-19.pkl', '2014-05-27.pkl', '2014-06-02.pkl', '2014-06-09.pkl', '2014-06-16.pkl', '2014-06-23.pkl', '2014-06-30.pkl', '2014-07-07.pkl', '2014-07-14.pkl', '2014-07-21.pkl', '2014-07-28.pkl', '2014-08-04.pkl', '2014-08-11.pkl', '2014-08-18.pkl', '2014-08-25.pkl', '2014-09-02.pkl', '2014-09-08.pkl', '2014-09-15.pkl', '2014-09-22.pkl', '2014-09-29.pkl', '2014-10-06.pkl', '2014-10-13.pkl', '2014-10-20.pkl', '2014-10-27.pkl', '2014-11-03.pkl', '2014-11-10.pkl', '2014-11-17.pkl', '2014-11-24.pkl', '2014-12-01.pkl', '2014-12-08.pkl', '2014-12-15.pkl', '2014-12-22.pkl', '2015-01-02.pkl', '2015-01-05.pkl', '2015-01-12.pkl', '2015-01-20.pkl', '2015-01-26.pkl', '2015-02-02.pkl', '2015-02-09.pkl', '2015-02-17.pkl', '2015-02-23.pkl', '2015-03-02.pkl', '2015-03-09.pkl', '2015-03-16.pkl', '2015-03-23.pkl', '2015-03-30.pkl', '2015-04-06.pkl', '2015-04-13.pkl', '2015-04-20.pkl', '2015-04-27.pkl', '2015-05-04.pkl', '2015-05-11.pkl', '2015-05-18.pkl', '2015-05-26.pkl']\n",
      "2015-10-19.pkl\n",
      "Creating training dataset from 106 files...\n",
      "✓ Dataset created: X=(49820, 54), y=(49820,)\n",
      "Training ridge model...\n",
      "✓ Training R²: 0.0575\n",
      "  Prediction spread: 0.8235%\n",
      "Predicting returns for 1 dates...\n",
      "✓ Predictions complete: (1, 470)\n",
      "['2013-05-28.pkl', '2013-06-03.pkl', '2013-06-10.pkl', '2013-06-17.pkl', '2013-06-24.pkl', '2013-07-01.pkl', '2013-07-08.pkl', '2013-07-15.pkl', '2013-07-22.pkl', '2013-07-29.pkl', '2013-08-05.pkl', '2013-08-12.pkl', '2013-08-19.pkl', '2013-08-26.pkl', '2013-09-03.pkl', '2013-09-09.pkl', '2013-09-16.pkl', '2013-09-23.pkl', '2013-09-30.pkl', '2013-10-07.pkl', '2013-10-14.pkl', '2013-10-21.pkl', '2013-10-28.pkl', '2013-11-04.pkl', '2013-11-11.pkl', '2013-11-18.pkl', '2013-11-25.pkl', '2013-12-02.pkl', '2013-12-09.pkl', '2013-12-16.pkl', '2013-12-23.pkl', '2013-12-30.pkl', '2014-01-02.pkl', '2014-01-06.pkl', '2014-01-13.pkl', '2014-01-21.pkl', '2014-01-27.pkl', '2014-02-03.pkl', '2014-02-10.pkl', '2014-02-18.pkl', '2014-02-24.pkl', '2014-03-03.pkl', '2014-03-10.pkl', '2014-03-17.pkl', '2014-03-24.pkl', '2014-03-31.pkl', '2014-04-07.pkl', '2014-04-14.pkl', '2014-04-21.pkl', '2014-04-28.pkl', '2014-05-05.pkl', '2014-05-12.pkl', '2014-05-19.pkl', '2014-05-27.pkl', '2014-06-02.pkl', '2014-06-09.pkl', '2014-06-16.pkl', '2014-06-23.pkl', '2014-06-30.pkl', '2014-07-07.pkl', '2014-07-14.pkl', '2014-07-21.pkl', '2014-07-28.pkl', '2014-08-04.pkl', '2014-08-11.pkl', '2014-08-18.pkl', '2014-08-25.pkl', '2014-09-02.pkl', '2014-09-08.pkl', '2014-09-15.pkl', '2014-09-22.pkl', '2014-09-29.pkl', '2014-10-06.pkl', '2014-10-13.pkl', '2014-10-20.pkl', '2014-10-27.pkl', '2014-11-03.pkl', '2014-11-10.pkl', '2014-11-17.pkl', '2014-11-24.pkl', '2014-12-01.pkl', '2014-12-08.pkl', '2014-12-15.pkl', '2014-12-22.pkl', '2015-01-02.pkl', '2015-01-05.pkl', '2015-01-12.pkl', '2015-01-20.pkl', '2015-01-26.pkl', '2015-02-02.pkl', '2015-02-09.pkl', '2015-02-17.pkl', '2015-02-23.pkl', '2015-03-02.pkl', '2015-03-09.pkl', '2015-03-16.pkl', '2015-03-23.pkl', '2015-03-30.pkl', '2015-04-06.pkl', '2015-04-13.pkl', '2015-04-20.pkl', '2015-04-27.pkl', '2015-05-04.pkl', '2015-05-11.pkl', '2015-05-18.pkl', '2015-05-26.pkl', '2015-06-01.pkl']\n",
      "2015-10-26.pkl\n",
      "Creating training dataset from 107 files...\n",
      "✓ Dataset created: X=(50290, 54), y=(50290,)\n",
      "Training ridge model...\n",
      "✓ Training R²: 0.0564\n",
      "  Prediction spread: 0.8144%\n",
      "Predicting returns for 1 dates...\n",
      "✓ Predictions complete: (1, 470)\n",
      "['2013-05-28.pkl', '2013-06-03.pkl', '2013-06-10.pkl', '2013-06-17.pkl', '2013-06-24.pkl', '2013-07-01.pkl', '2013-07-08.pkl', '2013-07-15.pkl', '2013-07-22.pkl', '2013-07-29.pkl', '2013-08-05.pkl', '2013-08-12.pkl', '2013-08-19.pkl', '2013-08-26.pkl', '2013-09-03.pkl', '2013-09-09.pkl', '2013-09-16.pkl', '2013-09-23.pkl', '2013-09-30.pkl', '2013-10-07.pkl', '2013-10-14.pkl', '2013-10-21.pkl', '2013-10-28.pkl', '2013-11-04.pkl', '2013-11-11.pkl', '2013-11-18.pkl', '2013-11-25.pkl', '2013-12-02.pkl', '2013-12-09.pkl', '2013-12-16.pkl', '2013-12-23.pkl', '2013-12-30.pkl', '2014-01-02.pkl', '2014-01-06.pkl', '2014-01-13.pkl', '2014-01-21.pkl', '2014-01-27.pkl', '2014-02-03.pkl', '2014-02-10.pkl', '2014-02-18.pkl', '2014-02-24.pkl', '2014-03-03.pkl', '2014-03-10.pkl', '2014-03-17.pkl', '2014-03-24.pkl', '2014-03-31.pkl', '2014-04-07.pkl', '2014-04-14.pkl', '2014-04-21.pkl', '2014-04-28.pkl', '2014-05-05.pkl', '2014-05-12.pkl', '2014-05-19.pkl', '2014-05-27.pkl', '2014-06-02.pkl', '2014-06-09.pkl', '2014-06-16.pkl', '2014-06-23.pkl', '2014-06-30.pkl', '2014-07-07.pkl', '2014-07-14.pkl', '2014-07-21.pkl', '2014-07-28.pkl', '2014-08-04.pkl', '2014-08-11.pkl', '2014-08-18.pkl', '2014-08-25.pkl', '2014-09-02.pkl', '2014-09-08.pkl', '2014-09-15.pkl', '2014-09-22.pkl', '2014-09-29.pkl', '2014-10-06.pkl', '2014-10-13.pkl', '2014-10-20.pkl', '2014-10-27.pkl', '2014-11-03.pkl', '2014-11-10.pkl', '2014-11-17.pkl', '2014-11-24.pkl', '2014-12-01.pkl', '2014-12-08.pkl', '2014-12-15.pkl', '2014-12-22.pkl', '2015-01-02.pkl', '2015-01-05.pkl', '2015-01-12.pkl', '2015-01-20.pkl', '2015-01-26.pkl', '2015-02-02.pkl', '2015-02-09.pkl', '2015-02-17.pkl', '2015-02-23.pkl', '2015-03-02.pkl', '2015-03-09.pkl', '2015-03-16.pkl', '2015-03-23.pkl', '2015-03-30.pkl', '2015-04-06.pkl', '2015-04-13.pkl', '2015-04-20.pkl', '2015-04-27.pkl', '2015-05-04.pkl', '2015-05-11.pkl', '2015-05-18.pkl', '2015-05-26.pkl', '2015-06-01.pkl', '2015-06-08.pkl']\n",
      "2015-11-02.pkl\n",
      "Creating training dataset from 108 files...\n",
      "✓ Dataset created: X=(50760, 54), y=(50760,)\n",
      "Training ridge model...\n",
      "✓ Training R²: 0.0561\n",
      "  Prediction spread: 0.8103%\n",
      "Predicting returns for 1 dates...\n",
      "✓ Predictions complete: (1, 470)\n",
      "ticker             A       AAL       AAP      AAPL      ABBV       ABC  \\\n",
      "2015-10-05  0.092063  0.080387  0.220241  0.110321  0.088892  0.041511   \n",
      "2015-10-12  0.153776  0.093591  0.207197  0.112565  0.084375  0.002935   \n",
      "2015-10-19  0.153230  0.171042  0.185005  0.110991  0.127653  0.048604   \n",
      "2015-10-26  0.159162  0.183427  0.129146  0.164839  0.039385  0.072115   \n",
      "2015-11-02  0.178813  0.180267  0.179005  0.175751  0.100971  0.164815   \n",
      "\n",
      "ticker           ABT       ACN      ADBE       ADI  ...        XL      XLNX  \\\n",
      "2015-10-05  0.089852  0.181598  0.203269  0.131979  ...  0.114077  0.152546   \n",
      "2015-10-12  0.106051  0.254629  0.159674  0.158585  ...  0.149933  0.203332   \n",
      "2015-10-19  0.140545  0.205376  0.169603  0.192260  ...  0.128323  0.212955   \n",
      "2015-10-26  0.148116  0.195497  0.144795  0.195412  ...  0.191380  0.233021   \n",
      "2015-11-02  0.194785  0.164527  0.162891  0.152178  ...  0.165130  0.197491   \n",
      "\n",
      "ticker           XOM      XRAY       XRX       XYL       YUM       ZBH  \\\n",
      "2015-10-05  0.183137  0.110351  0.093201  0.166668  0.135522  0.067427   \n",
      "2015-10-12  0.264679  0.197554  0.158694  0.226220  0.049347  0.097821   \n",
      "2015-10-19  0.256908  0.205885  0.139345  0.194797  0.067050  0.168956   \n",
      "2015-10-26  0.210713  0.234431  0.150599  0.186754  0.058794  0.108153   \n",
      "2015-11-02  0.173666  0.254618  0.043958  0.179362  0.110865  0.185557   \n",
      "\n",
      "ticker          ZION       ZTS  \n",
      "2015-10-05  0.121934  0.090140  \n",
      "2015-10-12  0.190874  0.113803  \n",
      "2015-10-19  0.138394  0.131629  \n",
      "2015-10-26  0.135315  0.078103  \n",
      "2015-11-02  0.145810  0.130889  \n",
      "\n",
      "[5 rows x 470 columns]\n"
     ]
    }
   ],
   "source": [
    "from sklearn.preprocessing import StandardScaler\n",
    "with open('src/data_weekly_ret/return_5_targets.pkl', 'rb') as f:\n",
    "    weekly_volatility_targets = pickle.load(f)\n",
    "\n",
    "mask = (weekly_volatility_targets.index >= '2015-10-05') & (weekly_volatility_targets.index <= '2016-10-03')\n",
    "testing_data = weekly_volatility_targets.loc[mask]\n",
    "testing_dates = testing_data.index.strftime('%Y-%m-%d').map(lambda x: x+\".pkl\").values\n",
    "\n",
    "preds = []\n",
    "\n",
    "for test_date in testing_dates[:5]:\n",
    "    predictor = MLReturnPredictor(model_type='ridge', alpha=11)\n",
    "    v = os.listdir('src/data_weekly_ret')[:os.listdir('src/data_weekly_ret').index(test_date)-20]\n",
    "    print(v)\n",
    "    print(test_date)\n",
    "    X_train, y_train = predictor.create_training_dataset(v,weekly_volatility_targets)\n",
    "    X_train = StandardScaler().fit_transform(X_train)\n",
    "    predictor.train(X_train, y_train)\n",
    "    predicted = predictor.predict_all_test_returns([test_date])\n",
    "    preds.append(predicted)\n",
    "\n",
    "predicted = pd.concat(preds)\n",
    "print(predicted)"
   ]
  },
  {
   "cell_type": "code",
   "execution_count": 83,
   "id": "21de3170",
   "metadata": {},
   "outputs": [
    {
     "data": {
      "text/plain": [
       "-32.29124454909616"
      ]
     },
     "execution_count": 83,
     "metadata": {},
     "output_type": "execute_result"
    }
   ],
   "source": [
    "r2_score(testing_data.loc[predicted.index], predicted)"
   ]
  },
  {
   "cell_type": "code",
   "execution_count": 90,
   "id": "2020717e",
   "metadata": {},
   "outputs": [],
   "source": [
    "with open('src/data_weekly_ret/return_5_targets.pkl', 'rb') as f:\n",
    "    weekly_volatility_targets = pickle.load(f)"
   ]
  },
  {
   "cell_type": "code",
   "execution_count": 88,
   "id": "4f020535",
   "metadata": {},
   "outputs": [
    {
     "name": "stdout",
     "output_type": "stream",
     "text": [
      "Feature 0 correlation with target: 0.00557653747487012\n",
      "Feature 1 correlation with target: -0.002889947742665886\n",
      "Feature 2 correlation with target: 0.006083572280014524\n",
      "Feature 3 correlation with target: -0.017528471033751724\n",
      "Feature 4 correlation with target: 0.006078738894112105\n",
      "Feature 5 correlation with target: -0.01757119806069574\n",
      "Feature 6 correlation with target: 0.027541770794512206\n",
      "Feature 7 correlation with target: 0.013548175505385866\n",
      "Feature 8 correlation with target: 0.0018885722646624107\n",
      "Feature 9 correlation with target: -0.0056601455956081775\n",
      "Feature 10 correlation with target: -0.032253608039023975\n",
      "Feature 11 correlation with target: -0.03214860580980798\n",
      "Feature 12 correlation with target: -0.00660121221558977\n",
      "Feature 13 correlation with target: -0.002167680821447501\n",
      "Feature 14 correlation with target: -0.028697635360370767\n",
      "Feature 15 correlation with target: -0.01944635227192168\n",
      "Feature 16 correlation with target: -0.01279296752484237\n",
      "Feature 17 correlation with target: -0.007402130512254016\n",
      "Feature 18 correlation with target: -0.04563092840345647\n",
      "Feature 19 correlation with target: 0.00557653747487012\n",
      "Feature 20 correlation with target: 0.005786101063686859\n",
      "Feature 21 correlation with target: 0.009424394602602726\n",
      "Feature 22 correlation with target: -0.02692001260619777\n",
      "Feature 23 correlation with target: -0.0019302921814754461\n",
      "Feature 24 correlation with target: -0.048781363289358164\n",
      "Feature 25 correlation with target: -0.006031571555546035\n",
      "Feature 26 correlation with target: 0.0014534036577583097\n",
      "Feature 27 correlation with target: -0.023540165299551045\n",
      "Feature 28 correlation with target: 0.0398838185112448\n",
      "Feature 29 correlation with target: -0.0638134395339053\n",
      "Feature 30 correlation with target: -0.044202848514036754\n",
      "Feature 31 correlation with target: -0.025145768847389758\n",
      "Feature 32 correlation with target: 0.006863824933045756\n",
      "Feature 33 correlation with target: -0.0038188144542088687\n",
      "Feature 34 correlation with target: 0.043170297040516864\n",
      "Feature 35 correlation with target: 0.04009073739395805\n",
      "Feature 36 correlation with target: -0.01163639918431333\n",
      "Feature 37 correlation with target: 0.02044182043568209\n",
      "Feature 38 correlation with target: 0.038382046876211565\n",
      "Feature 39 correlation with target: 0.0005460445411093346\n",
      "Feature 40 correlation with target: 0.011786250513665414\n",
      "Feature 41 correlation with target: -0.02506861054900576\n",
      "Feature 42 correlation with target: 0.0005460610000464362\n",
      "Feature 43 correlation with target: 0.0025586711843762584\n",
      "Feature 44 correlation with target: 0.01342857334344193\n",
      "Feature 45 correlation with target: -0.022476729529101257\n",
      "Feature 46 correlation with target: 4.879158222469333e-05\n",
      "Feature 47 correlation with target: -0.024512491979325302\n",
      "Feature 48 correlation with target: -0.023645348838761036\n",
      "Feature 49 correlation with target: -0.023268577339629896\n",
      "Feature 50 correlation with target: 0.03488381448057695\n",
      "Feature 51 correlation with target: -0.005660135260551933\n",
      "Feature 52 correlation with target: -0.0015846584241339626\n",
      "Feature 53 correlation with target: 0.005232595270127503\n"
     ]
    }
   ],
   "source": [
    "for i in range(X_train.T.shape[0]):\n",
    "    print(f\"Feature {i} correlation with target: {np.corrcoef(X_train.T[i], y_train)[0, 1]}\")\n"
   ]
  },
  {
   "cell_type": "markdown",
   "id": "573aa823",
   "metadata": {},
   "source": [
    "Purge period either 70 trading days, 14 trasing weeks, 4 trading months"
   ]
  },
  {
   "cell_type": "code",
   "execution_count": null,
   "id": "df8b1494",
   "metadata": {},
   "outputs": [],
   "source": [
    "# testing_dates = test_returns.index.strftime('%Y-%m-%d').map(lambda x: x+\".pkl\").values\n",
    "\n",
    "with open('src/data_weekly_var/weekly_volatility_targets.pkl', 'rb') as f:\n",
    "    weekly_volatility_targets = pickle.load(f)\n",
    "\n",
    "test_weekly_var = weekly_volatility_targets.loc['2017-02-08':]\n",
    "\n",
    "testing_dates = test_weekly_var.index.strftime('%Y-%m-%d').map(lambda x: x+\".pkl\").values\n",
    "\n",
    "preds = []\n",
    "\n",
    "for test_date in testing_dates:\n",
    "    predictor = MLReturnPredictor(model_type='ridge', alpha=.1)\n",
    "    X_train, y_train = predictor.create_training_dataset(os.listdir('src/data_weekly_var')[:os.listdir('src/data_weekly_var').index(test_date)-10],\n",
    "                                                        np.log(weekly_volatility_targets)) #65 for purge\n",
    "    predictor.train(X_train, y_train)\n",
    "    predicted = predictor.predict_all_test_returns([test_date])\n",
    "    preds.append(predicted)\n",
    "\n",
    "predicted = pd.concat(preds)\n",
    "predicted = np.exp(predicted)\n"
   ]
  },
  {
   "cell_type": "markdown",
   "id": "14edbdd2",
   "metadata": {},
   "source": [
    "Generate weights for variance"
   ]
  },
  {
   "cell_type": "code",
   "execution_count": null,
   "id": "d13768d6",
   "metadata": {},
   "outputs": [],
   "source": [
    "tickers = predicted.columns.tolist()\n",
    "\n",
    "def compute_weights_for_date(date):\n",
    "    opt = PortfolioOptimizer(returns.loc[:date].iloc[:-1]).minimum_variance_from_cov(predicted.loc[[date]], max_position=0.05)\n",
    "    return pd.Series(opt, index=tickers)\n",
    "\n",
    "weights_list = Parallel(n_jobs=-1)(\n",
    "    delayed(compute_weights_for_date)(d) for d in tqdm(predicted.index, desc=\"weights\")\n",
    ")\n",
    "\n",
    "weights = pd.concat(weights_list, axis=1).T\n",
    "weights.index.name = 'date'\n",
    "weights.index = predicted.index\n",
    "\n",
    "with open('weights_variance.pkl', 'wb') as f:\n",
    "    pickle.dump(weights, f)"
   ]
  },
  {
   "cell_type": "markdown",
   "id": "a43ae15f",
   "metadata": {},
   "source": [
    "The one below takes very long btw\n",
    "\n",
    "Chooses optimal portfolio based on predicted returns"
   ]
  },
  {
   "cell_type": "code",
   "execution_count": null,
   "id": "9b8086cd",
   "metadata": {},
   "outputs": [],
   "source": [
    "tickers = predicted.columns.tolist()\n",
    "\n",
    "def compute_weights_for_date(date):\n",
    "    predicted_returns = pd.concat([returns.loc[:date].iloc[:-1], predicted.loc[[date]]])\n",
    "    opt = PortfolioOptimizer(predicted_returns).minimum_variance(max_position=0.05)\n",
    "    return pd.Series(opt, index=tickers)\n",
    "\n",
    "weights_list = Parallel(n_jobs=-1)(\n",
    "    delayed(compute_weights_for_date)(d) for d in tqdm(predicted.index[:5], desc=\"weights\")\n",
    ")\n",
    "\n",
    "weights = pd.concat(weights_list, axis=1).T\n",
    "weights.index.name = 'date'\n",
    "weights.index = predicted.index[:5]\n",
    "\n",
    "with open('weights.pkl', 'wb') as f:\n",
    "    pickle.dump(weights, f)\n"
   ]
  },
  {
   "cell_type": "code",
   "execution_count": null,
   "id": "5105ff02",
   "metadata": {},
   "outputs": [],
   "source": [
    "returns.head(5).sum(axis=0)"
   ]
  },
  {
   "cell_type": "code",
   "execution_count": null,
   "id": "5ea4f963",
   "metadata": {},
   "outputs": [],
   "source": [
    "date_idx = returns.index.get_loc(\"2018-02-07\")\n",
    "window_start = date_idx - 70\n",
    "window_end = date_idx\n",
    "returns_window = returns.iloc[window_start:window_end]\n",
    "returns_window"
   ]
  },
  {
   "cell_type": "code",
   "execution_count": null,
   "id": "7e1774e8",
   "metadata": {},
   "outputs": [],
   "source": [
    "spy_weights = volume.shift(1)\n",
    "close_prices = close.shift(1)\n",
    "spy_weights = spy_weights.loc[\"2017-02-08\":\"2018-02-07\"]\n",
    "close_prices = close_prices.loc[\"2017-02-08\":\"2018-02-07\"]\n",
    "spy_weights = spy_weights*close_prices\n",
    "spy_weights = spy_weights.div(spy_weights.sum(axis=1), axis=0)\n",
    "spy_weights.head()"
   ]
  },
  {
   "cell_type": "markdown",
   "id": "70e29d15",
   "metadata": {},
   "source": [
    "Preparing backtest\n"
   ]
  },
  {
   "cell_type": "code",
   "execution_count": null,
   "id": "8f4858c3",
   "metadata": {},
   "outputs": [],
   "source": [
    "backtester = WalkForwardBacktest(\n",
    "    train_returns=train_returns,\n",
    "    test_returns=test_returns,\n",
    "    # test_prices=test_prices,\n",
    "    rf_rate_test=test_risk_free_rate,\n",
    "    rebalance_freq='D'  # Weekly\n",
    ")"
   ]
  },
  {
   "cell_type": "markdown",
   "id": "08b38dad",
   "metadata": {},
   "source": [
    "running backtest"
   ]
  },
  {
   "cell_type": "code",
   "execution_count": null,
   "id": "5a20ca31",
   "metadata": {},
   "outputs": [],
   "source": [
    "results = {}\n",
    "\n",
    "with open('weights.pkl', 'rb') as f:\n",
    "    weights = pickle.load(f)\n",
    "\n",
    "# Run Equal Weight\n",
    "results['ML w fees'] = backtester.run_backtest_preloaded_weights(\n",
    "    strategy_name='ML',\n",
    "    preloaded_weights=weights,\n",
    "    transaction_cost_bps=10\n",
    ")\n",
    "\n",
    "results['ML no fees'] = backtester.run_backtest_preloaded_weights(\n",
    "    strategy_name='ML',\n",
    "    preloaded_weights=weights,\n",
    "    transaction_cost_bps=0\n",
    ")\n",
    "\n",
    "\n",
    "weights = weights.iloc[[0]]\n",
    "\n",
    "for col in weights.columns:\n",
    "    weights[col].values[:] = 1/470\n",
    "\n",
    "results['Base - Buy & Hold'] = backtester.run_backtest_preloaded_weights(\n",
    "    strategy_name='ML',\n",
    "    preloaded_weights=weights,\n",
    "    transaction_cost_bps=0\n",
    ")\n",
    "\n",
    "with open('weights_variance.pkl', 'rb') as f:\n",
    "    weights_var = pickle.load(f)\n",
    "\n",
    "results['vol'] = backtester.run_backtest_preloaded_weights(\n",
    "    strategy_name='Volatility',\n",
    "    preloaded_weights=weights_var,\n",
    "    transaction_cost_bps=0\n",
    ")"
   ]
  },
  {
   "cell_type": "markdown",
   "id": "1578df7c",
   "metadata": {},
   "source": [
    "Evaluation"
   ]
  },
  {
   "cell_type": "code",
   "execution_count": null,
   "id": "8d1fd055",
   "metadata": {},
   "outputs": [],
   "source": [
    "results['vol']"
   ]
  },
  {
   "cell_type": "code",
   "execution_count": null,
   "id": "0ee5a69d",
   "metadata": {},
   "outputs": [],
   "source": [
    "evaluator = PerformanceEvaluator(test_risk_free_rate)\n",
    "\n",
    "comparison_df = evaluator.compare_strategies(results)\n",
    "print(\"\\nPerformance Comparison:\")\n",
    "print(comparison_df.to_string())\n",
    "\n",
    "# ============================================================\n",
    "# STEP 5: Visualize Results\n",
    "# ============================================================\n",
    "print(\"\\n5. Generating Visualizations\")\n",
    "print(\"-\" * 60)\n",
    "\n",
    "fig = evaluator.plot_results(results, figsize=(15, 10))\n",
    "plt.show()\n",
    "\n",
    "fred = Fred(api_key = os.getenv(\"API_KEY\"))\n",
    "spy = fred.get_series_latest_release('SP500').loc[\"2017-02-08\":\"2018-02-07\"]\n",
    "spy.plot()\n",
    "plt.show()\n"
   ]
  }
 ],
 "metadata": {
  "kernelspec": {
   "display_name": ".venv",
   "language": "python",
   "name": "python3"
  },
  "language_info": {
   "codemirror_mode": {
    "name": "ipython",
    "version": 3
   },
   "file_extension": ".py",
   "mimetype": "text/x-python",
   "name": "python",
   "nbconvert_exporter": "python",
   "pygments_lexer": "ipython3",
   "version": "3.10.2"
  }
 },
 "nbformat": 4,
 "nbformat_minor": 5
}
